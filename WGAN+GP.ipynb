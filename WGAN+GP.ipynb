{
  "nbformat": 4,
  "nbformat_minor": 0,
  "metadata": {
    "colab": {
      "name": "Untitled0.ipynb",
      "provenance": [],
      "authorship_tag": "ABX9TyOG75GRuF3WoAV9kPp0cjjw",
      "include_colab_link": true
    },
    "kernelspec": {
      "name": "python3",
      "display_name": "Python 3"
    },
    "language_info": {
      "name": "python"
    },
    "accelerator": "GPU"
  },
  "cells": [
    {
      "cell_type": "markdown",
      "metadata": {
        "id": "view-in-github",
        "colab_type": "text"
      },
      "source": [
        "<a href=\"https://colab.research.google.com/github/hnqmz/machine_learning/blob/master/WGAN%2BGP.ipynb\" target=\"_parent\"><img src=\"https://colab.research.google.com/assets/colab-badge.svg\" alt=\"Open In Colab\"/></a>"
      ]
    },
    {
      "cell_type": "code",
      "metadata": {
        "id": "-W28icim4tY2"
      },
      "source": [
        "import tensorflow as tf \n",
        "from tensorflow.keras import layers \n",
        "import numpy as np \n",
        "import matplotlib.pyplot as plt \n",
        "from numpy.random import default_rng\n",
        "\n",
        "np.random.seed(42)\n",
        "rg=default_rng"
      ],
      "execution_count": 1,
      "outputs": []
    },
    {
      "cell_type": "code",
      "metadata": {
        "colab": {
          "base_uri": "https://localhost:8080/"
        },
        "id": "LTc4kF0440oy",
        "outputId": "05e2f240-29e3-4a5d-cda3-548a0232fea1"
      },
      "source": [
        "IMG_SHAPE=(28, 28, 1)\n",
        "BATCH_SIZE=512\n",
        "\n",
        "noise_dim=128\n",
        "\n",
        "fashion_mnist=tf.keras.datasets.fashion_mnist\n",
        "\n",
        "(x_tr, y_tr), (x_te, y_te)=fashion_mnist.load_data()\n",
        "print('Number of examples: %s' % (len(x_tr)))\n",
        "print('Shape of examples (%s, %s)' % (x_tr.shape[1], x_tr.shape[2]))\n",
        "\n",
        "x_tr=x_tr.reshape((-1, 28, 28, 1)).astype('float32')\n",
        "x_tr=(x_tr-127.5)/127.5\n",
        "#from sklearn.preprocessing import standart_scaler"
      ],
      "execution_count": 2,
      "outputs": [
        {
          "output_type": "stream",
          "text": [
            "Downloading data from https://storage.googleapis.com/tensorflow/tf-keras-datasets/train-labels-idx1-ubyte.gz\n",
            "32768/29515 [=================================] - 0s 0us/step\n",
            "Downloading data from https://storage.googleapis.com/tensorflow/tf-keras-datasets/train-images-idx3-ubyte.gz\n",
            "26427392/26421880 [==============================] - 0s 0us/step\n",
            "Downloading data from https://storage.googleapis.com/tensorflow/tf-keras-datasets/t10k-labels-idx1-ubyte.gz\n",
            "8192/5148 [===============================================] - 0s 0us/step\n",
            "Downloading data from https://storage.googleapis.com/tensorflow/tf-keras-datasets/t10k-images-idx3-ubyte.gz\n",
            "4423680/4422102 [==============================] - 0s 0us/step\n",
            "Number of examples: 60000\n",
            "Shape of examples (28, 28)\n"
          ],
          "name": "stdout"
        }
      ]
    },
    {
      "cell_type": "code",
      "metadata": {
        "id": "1W_fIyhB420T"
      },
      "source": [
        "def conv_block(\n",
        "    x,\n",
        "    filters,\n",
        "    activation,\n",
        "    kernel_size=(3, 3),\n",
        "    strides=(1, 1),\n",
        "    padding='same',\n",
        "    use_bias=True,\n",
        "    use_bn=False,\n",
        "    use_dropout=False,\n",
        "    drop_value=0.5,):\n",
        "\n",
        "    x=layers.Conv2D(filters, kernel_size, strides=strides, padding=padding, use_bias=use_bias)(x)\n",
        "    if use_bn:\n",
        "        x=layers.BatchNormalization()(x)\n",
        "    x=activation(x)\n",
        "    if use_dropout:\n",
        "        x=layers.Dropout(drop_value)(x)\n",
        "    return x"
      ],
      "execution_count": 3,
      "outputs": []
    },
    {
      "cell_type": "code",
      "metadata": {
        "colab": {
          "base_uri": "https://localhost:8080/"
        },
        "id": "QmIYptyO48LT",
        "outputId": "12a11667-8973-41dc-eecb-309dc7a3bf51"
      },
      "source": [
        "def get_d_model():\n",
        "    img_input=layers.Input(shape=IMG_SHAPE)\n",
        "    x=layers.ZeroPadding2D((2, 2))(img_input)\n",
        "    x=conv_block(\n",
        "        x,\n",
        "        64,\n",
        "        kernel_size=(5, 5),\n",
        "        strides=(2, 2),\n",
        "        use_bn=False,\n",
        "        use_bias=True,\n",
        "        activation=layers.LeakyReLU(alpha=0.2),\n",
        "        use_dropout=False,\n",
        "        drop_value=0.3\n",
        "    ) \n",
        "    x=conv_block(\n",
        "        x,\n",
        "        128,\n",
        "        kernel_size=(5, 5),\n",
        "        strides=(2, 2),\n",
        "        use_bn=False,\n",
        "        activation=layers.LeakyReLU(0.2),\n",
        "        use_bias=True,\n",
        "        use_dropout=True,\n",
        "        drop_value=0.3,\n",
        "    )\n",
        "    x=conv_block(\n",
        "        x, \n",
        "        256, \n",
        "        kernel_size=(5, 5),\n",
        "        strides=(2, 2),\n",
        "        use_bn=False,\n",
        "        activation=tf.keras.layers.LeakyReLU(0.2),\n",
        "        use_bias=True,\n",
        "        use_dropout=True,\n",
        "        drop_value=0.3,\n",
        "\n",
        "    )\n",
        "    x=conv_block(\n",
        "        x,\n",
        "        512,\n",
        "        kernel_size=(5, 5),\n",
        "        strides=(2, 2),\n",
        "        use_bn=False,\n",
        "        use_bias=True,\n",
        "        activation=tf.keras.layers.LeakyReLU(0.2),\n",
        "        use_dropout=False,\n",
        "        drop_value=0.3,\n",
        "    )\n",
        "\n",
        "    x=layers.Flatten()(x)\n",
        "    x=layers.Dropout(0.2)(x)\n",
        "    x=layers.Dense(1)(x)\n",
        "\n",
        "    d_model=tf.keras.Model(img_input, x, name='d_model')\n",
        "    return d_model\n",
        "\n",
        "d_model=get_d_model()\n",
        "d_model.summary()"
      ],
      "execution_count": 4,
      "outputs": [
        {
          "output_type": "stream",
          "text": [
            "Model: \"d_model\"\n",
            "_________________________________________________________________\n",
            "Layer (type)                 Output Shape              Param #   \n",
            "=================================================================\n",
            "input_1 (InputLayer)         [(None, 28, 28, 1)]       0         \n",
            "_________________________________________________________________\n",
            "zero_padding2d (ZeroPadding2 (None, 32, 32, 1)         0         \n",
            "_________________________________________________________________\n",
            "conv2d (Conv2D)              (None, 16, 16, 64)        1664      \n",
            "_________________________________________________________________\n",
            "leaky_re_lu (LeakyReLU)      (None, 16, 16, 64)        0         \n",
            "_________________________________________________________________\n",
            "conv2d_1 (Conv2D)            (None, 8, 8, 128)         204928    \n",
            "_________________________________________________________________\n",
            "leaky_re_lu_1 (LeakyReLU)    (None, 8, 8, 128)         0         \n",
            "_________________________________________________________________\n",
            "dropout (Dropout)            (None, 8, 8, 128)         0         \n",
            "_________________________________________________________________\n",
            "conv2d_2 (Conv2D)            (None, 4, 4, 256)         819456    \n",
            "_________________________________________________________________\n",
            "leaky_re_lu_2 (LeakyReLU)    (None, 4, 4, 256)         0         \n",
            "_________________________________________________________________\n",
            "dropout_1 (Dropout)          (None, 4, 4, 256)         0         \n",
            "_________________________________________________________________\n",
            "conv2d_3 (Conv2D)            (None, 2, 2, 512)         3277312   \n",
            "_________________________________________________________________\n",
            "leaky_re_lu_3 (LeakyReLU)    (None, 2, 2, 512)         0         \n",
            "_________________________________________________________________\n",
            "flatten (Flatten)            (None, 2048)              0         \n",
            "_________________________________________________________________\n",
            "dropout_2 (Dropout)          (None, 2048)              0         \n",
            "_________________________________________________________________\n",
            "dense (Dense)                (None, 1)                 2049      \n",
            "=================================================================\n",
            "Total params: 4,305,409\n",
            "Trainable params: 4,305,409\n",
            "Non-trainable params: 0\n",
            "_________________________________________________________________\n"
          ],
          "name": "stdout"
        }
      ]
    },
    {
      "cell_type": "code",
      "metadata": {
        "colab": {
          "base_uri": "https://localhost:8080/"
        },
        "id": "TfaAUZgb5Aky",
        "outputId": "8a668eb8-bbe2-4234-d911-0b8de6a1de70"
      },
      "source": [
        "def upsample_block(\n",
        "    x, \n",
        "    filters, \n",
        "    activation, \n",
        "    kernel_size=(3, 3),\n",
        "    strides=(1, 1),\n",
        "    \n",
        "    padding='same',\n",
        "    use_bn=False, \n",
        "    use_bias=True,\n",
        "    use_dropout=False,\n",
        "    drop_value=0.3):\n",
        "\n",
        "    x=layers.Conv2DTranspose(filters, kernel_size, strides=strides, padding=padding, use_bias=use_bias)(x)\n",
        "    \n",
        "    if use_bn:\n",
        "        x=layers.BatchNormalization()(x)\n",
        "    if activation:\n",
        "        x=activation(x)\n",
        "    if use_dropout:\n",
        "        x=layers.Dropout(drop_value)(x)\n",
        "    return x\n",
        "\n",
        "def get_g_model():\n",
        "    noise=layers.Input(shape=(noise_dim, ))\n",
        "    x=layers.Dense(4*4*256, use_bias=False)(noise)\n",
        "    x=layers.BatchNormalization()(x)\n",
        "    x=layers.LeakyReLU(0.2)(x)\n",
        "\n",
        "    x=layers.Reshape((4, 4, 256))(x)\n",
        "    x=upsample_block(\n",
        "        x, \n",
        "        128, \n",
        "        layers.LeakyReLU(0.2),\n",
        "        strides=(2, 2),\n",
        "        use_bias=False,\n",
        "        use_bn=True, \n",
        "        use_dropout=False,\n",
        "    )\n",
        "    x=upsample_block(\n",
        "        x, \n",
        "        64, \n",
        "        layers.LeakyReLU(0.2),\n",
        "        strides=(2, 2),\n",
        "        use_bias=False,\n",
        "        use_bn=True,\n",
        "        use_dropout=False,\n",
        "\n",
        "    )\n",
        "    x=upsample_block(\n",
        "        x, 1, layers.Activation('tanh'), strides=(2, 2), use_bias=False, use_bn=True\n",
        "    )\n",
        "    x=layers.Cropping2D((2, 2))(x)\n",
        "\n",
        "    g_model=tf.keras.Model(noise, x, name='g_model')\n",
        "    return g_model\n",
        "\n",
        "g_model=get_g_model()\n",
        "g_model.summary()"
      ],
      "execution_count": 5,
      "outputs": [
        {
          "output_type": "stream",
          "text": [
            "Model: \"g_model\"\n",
            "_________________________________________________________________\n",
            "Layer (type)                 Output Shape              Param #   \n",
            "=================================================================\n",
            "input_2 (InputLayer)         [(None, 128)]             0         \n",
            "_________________________________________________________________\n",
            "dense_1 (Dense)              (None, 4096)              524288    \n",
            "_________________________________________________________________\n",
            "batch_normalization (BatchNo (None, 4096)              16384     \n",
            "_________________________________________________________________\n",
            "leaky_re_lu_4 (LeakyReLU)    (None, 4096)              0         \n",
            "_________________________________________________________________\n",
            "reshape (Reshape)            (None, 4, 4, 256)         0         \n",
            "_________________________________________________________________\n",
            "conv2d_transpose (Conv2DTran (None, 8, 8, 128)         294912    \n",
            "_________________________________________________________________\n",
            "batch_normalization_1 (Batch (None, 8, 8, 128)         512       \n",
            "_________________________________________________________________\n",
            "leaky_re_lu_5 (LeakyReLU)    (None, 8, 8, 128)         0         \n",
            "_________________________________________________________________\n",
            "conv2d_transpose_1 (Conv2DTr (None, 16, 16, 64)        73728     \n",
            "_________________________________________________________________\n",
            "batch_normalization_2 (Batch (None, 16, 16, 64)        256       \n",
            "_________________________________________________________________\n",
            "leaky_re_lu_6 (LeakyReLU)    (None, 16, 16, 64)        0         \n",
            "_________________________________________________________________\n",
            "conv2d_transpose_2 (Conv2DTr (None, 32, 32, 1)         576       \n",
            "_________________________________________________________________\n",
            "batch_normalization_3 (Batch (None, 32, 32, 1)         4         \n",
            "_________________________________________________________________\n",
            "activation (Activation)      (None, 32, 32, 1)         0         \n",
            "_________________________________________________________________\n",
            "cropping2d (Cropping2D)      (None, 28, 28, 1)         0         \n",
            "=================================================================\n",
            "Total params: 910,660\n",
            "Trainable params: 902,082\n",
            "Non-trainable params: 8,578\n",
            "_________________________________________________________________\n"
          ],
          "name": "stdout"
        }
      ]
    },
    {
      "cell_type": "code",
      "metadata": {
        "id": "0DqSjCeU5Em9"
      },
      "source": [
        "class WGAN(tf.keras.Model):\n",
        "    def __init__(self, d_model, g_model, latent_dim, d_extra_steps=3, gp_weight=10.0):\n",
        "        super().__init__()\n",
        "        self.d_model=d_model\n",
        "        self.g_model=g_model\n",
        "        self.latent_dim=latent_dim\n",
        "        self.d_steps=d_extra_steps\n",
        "        self.gp_weight=gp_weight\n",
        "    def compile(self, d_optimizer, g_optimizer, d_loss_fn, g_loss_fn):\n",
        "        super().compile()\n",
        "        self.d_optimizer=d_optimizer\n",
        "        self.g_optimizer=g_optimizer\n",
        "        self.d_loss_fn=d_loss_fn\n",
        "        self.g_loss_fn=g_loss_fn\n",
        "    def gp(self, batch_size, real_images, fake_images):\n",
        "        alpha=tf.random.normal([batch_size, 1, 1, 1], 0.0, 1.0)\n",
        "        diff=fake_images-real_images\n",
        "        interpolated=real_images+alpha*diff \n",
        "\n",
        "        with tf.GradientTape() as gp_tape:\n",
        "            gp_tape.watch(interpolated)\n",
        "            pred=self.d_model(interpolated, training=True)\n",
        "        grads=gp_tape.gradient(pred, [interpolated])[0]\n",
        "        norm=tf.sqrt(tf.reduce_sum(tf.square(grads), axis=[1, 2, 3]))\n",
        "        gpn=tf.reduce_mean((norm-1.0)**2)\n",
        "        return gpn \n",
        "\n",
        "    def train_step(self, real_images):\n",
        "        if isinstance(real_images, tuple):\n",
        "            real_images=real_images[0]\n",
        "        batch_size=tf.shape(real_images)[0]\n",
        "\n",
        "        for i in range(self.d_steps):\n",
        "            random_latent_vectors=tf.random.normal(\n",
        "                shape=(batch_size, self.latent_dim)\n",
        "            )\n",
        "\n",
        "            with tf.GradientTape() as tape:\n",
        "                fake_img=self.g_model(random_latent_vectors, training=True)\n",
        "                fake_logits=self.d_model(fake_img, training=True)\n",
        "                real_logits=self.d_model(real_images, training=True)\n",
        "\n",
        "                d_cost=self.d_loss_fn(real_img=real_logits, fake_img=fake_logits)\n",
        "                gp=self.gp(batch_size, real_images, fake_img)\n",
        "\n",
        "                d_loss=d_cost+self.gp_weight*gp\n",
        "\n",
        "            d_gradient=tape.gradient(d_loss, self.d_model.trainable_variables)\n",
        "            self.d_optimizer.apply_gradients(\n",
        "                zip(d_gradient, self.d_model.trainable_variables)\n",
        "\n",
        "            )\n",
        "\n",
        "        random_latent_vectors=tf.random.normal(shape=(batch_size, self.latent_dim))\n",
        "\n",
        "        with tf.GradientTape() as tape:\n",
        "            generated_img=self.g_model(random_latent_vectors, training=True)\n",
        "            gen_img_logits=self.d_model(generated_img, training=True)\n",
        "            g_loss=self.g_loss_fn(gen_img_logits)\n",
        "\n",
        "        gen_gradient=tape.gradient(g_loss, self.g_model.trainable_variables)\n",
        "\n",
        "        self.g_optimizer.apply_gradients(\n",
        "            zip(gen_gradient, self.g_model.trainable_variables)\n",
        "        )\n",
        "\n",
        "        return {'d_loss': d_loss, 'g_loss':g_loss}"
      ],
      "execution_count": 6,
      "outputs": []
    },
    {
      "cell_type": "code",
      "metadata": {
        "id": "VVjxiNqI5KP9"
      },
      "source": [
        "class GANMonitor(tf.keras.callbacks.Callback):\n",
        "    def __init__(self, num_img=6, latent_dim=128):\n",
        "        self.num_img=num_img\n",
        "        self.latent_dim=latent_dim\n",
        "    def on_epoch_end(self, epoch, logs=None):\n",
        "        random_latent_vectors=tf.random.normal((self.num_img, self.latent_dim))\n",
        "        generated_img=self.model.g_model(random_latent_vectors)\n",
        "        generated_img=(generated_img*127.5)+127.5\n",
        "\n",
        "        for i in range(self.num_img):\n",
        "            img=generated_img[i].numpy()\n",
        "            img=tf.keras.preprocessing.image.array_to_img(img)\n",
        "            img.save('generated_img_{i}_{epoch}.png'.format(i=i, epoch=epoch))"
      ],
      "execution_count": 7,
      "outputs": []
    },
    {
      "cell_type": "code",
      "metadata": {
        "colab": {
          "base_uri": "https://localhost:8080/"
        },
        "id": "1vcZaxwX5M8r",
        "outputId": "7f9316dc-a3ce-4f5c-8caa-2a310059c67e"
      },
      "source": [
        "generator_optimizer = tf.keras.optimizers.Adam(\n",
        "    learning_rate=0.0002, beta_1=0.5, beta_2=0.9\n",
        ")\n",
        "discriminator_optimizer = tf.keras.optimizers.Adam(\n",
        "    learning_rate=0.0002, beta_1=0.5, beta_2=0.9\n",
        ")\n",
        "\n",
        "# Define the loss functions for the discriminator,\n",
        "# which should be (fake_loss - real_loss).\n",
        "# We will add the gradient penalty later to this loss function.\n",
        "def discriminator_loss(real_img, fake_img):\n",
        "    real_loss = tf.reduce_mean(real_img)\n",
        "    fake_loss = tf.reduce_mean(fake_img)\n",
        "    return fake_loss - real_loss\n",
        "\n",
        "\n",
        "# Define the loss functions for the generator.\n",
        "def generator_loss(fake_img):\n",
        "    return -tf.reduce_mean(fake_img)\n",
        "\n",
        "\n",
        "# Set the number of epochs for trainining.\n",
        "epochs = 20\n",
        "\n",
        "# Instantiate the customer `GANMonitor` Keras callback.\n",
        "cbk = GANMonitor(num_img=3, latent_dim=noise_dim)\n",
        "\n",
        "# Instantiate the WGAN model.\n",
        "wgan = WGAN(\n",
        "    d_model=d_model,\n",
        "    g_model=g_model,\n",
        "    latent_dim=noise_dim,\n",
        "    d_extra_steps=3,\n",
        ")\n",
        "\n",
        "# Compile the WGAN model.\n",
        "wgan.compile(\n",
        "    d_optimizer=discriminator_optimizer,\n",
        "    g_optimizer=generator_optimizer,\n",
        "    g_loss_fn=generator_loss,\n",
        "    d_loss_fn=discriminator_loss,\n",
        ")\n",
        "\n",
        "# Start training the model.\n",
        "wgan.fit(x_tr, batch_size=BATCH_SIZE, epochs=epochs, callbacks=[cbk])"
      ],
      "execution_count": 8,
      "outputs": [
        {
          "output_type": "stream",
          "text": [
            "Epoch 1/20\n",
            "118/118 [==============================] - 168s 1s/step - d_loss: -12.9065 - g_loss: -9.3999\n",
            "Epoch 2/20\n",
            "118/118 [==============================] - 133s 1s/step - d_loss: -8.9641 - g_loss: 1.1074\n",
            "Epoch 3/20\n",
            "118/118 [==============================] - 133s 1s/step - d_loss: -8.2628 - g_loss: 12.7697\n",
            "Epoch 4/20\n",
            "118/118 [==============================] - 133s 1s/step - d_loss: -7.3365 - g_loss: 18.8487\n",
            "Epoch 5/20\n",
            "118/118 [==============================] - 132s 1s/step - d_loss: -6.5150 - g_loss: 26.6912\n",
            "Epoch 6/20\n",
            "118/118 [==============================] - 132s 1s/step - d_loss: -5.8440 - g_loss: 26.6328\n",
            "Epoch 7/20\n",
            "118/118 [==============================] - 132s 1s/step - d_loss: -5.3622 - g_loss: 25.9911\n",
            "Epoch 8/20\n",
            "118/118 [==============================] - 132s 1s/step - d_loss: -4.9319 - g_loss: 23.9385\n",
            "Epoch 9/20\n",
            "118/118 [==============================] - 132s 1s/step - d_loss: -4.6166 - g_loss: 21.8118\n",
            "Epoch 10/20\n",
            "118/118 [==============================] - 133s 1s/step - d_loss: -4.2912 - g_loss: 19.6547\n",
            "Epoch 11/20\n",
            "118/118 [==============================] - 133s 1s/step - d_loss: -4.0495 - g_loss: 18.4871\n",
            "Epoch 12/20\n",
            "118/118 [==============================] - 132s 1s/step - d_loss: -3.8528 - g_loss: 17.0170\n",
            "Epoch 13/20\n",
            "118/118 [==============================] - 133s 1s/step - d_loss: -3.6374 - g_loss: 15.3792\n",
            "Epoch 14/20\n",
            "118/118 [==============================] - 133s 1s/step - d_loss: -3.5195 - g_loss: 13.9538\n",
            "Epoch 15/20\n",
            "118/118 [==============================] - 133s 1s/step - d_loss: -3.3510 - g_loss: 12.1598\n",
            "Epoch 16/20\n",
            "118/118 [==============================] - 133s 1s/step - d_loss: -3.2192 - g_loss: 11.4137\n",
            "Epoch 17/20\n",
            "118/118 [==============================] - 133s 1s/step - d_loss: -3.0819 - g_loss: 11.3263\n",
            "Epoch 18/20\n",
            "118/118 [==============================] - 133s 1s/step - d_loss: -2.9834 - g_loss: 11.7820\n",
            "Epoch 19/20\n",
            "118/118 [==============================] - 133s 1s/step - d_loss: -2.8822 - g_loss: 10.8847\n",
            "Epoch 20/20\n",
            "118/118 [==============================] - 133s 1s/step - d_loss: -2.7635 - g_loss: 10.0774\n"
          ],
          "name": "stdout"
        },
        {
          "output_type": "execute_result",
          "data": {
            "text/plain": [
              "<tensorflow.python.keras.callbacks.History at 0x7fe2f47b1690>"
            ]
          },
          "metadata": {
            "tags": []
          },
          "execution_count": 8
        }
      ]
    },
    {
      "cell_type": "code",
      "metadata": {
        "colab": {
          "base_uri": "https://localhost:8080/",
          "height": 80
        },
        "id": "843SDec8D8V0",
        "outputId": "65997900-483b-4ff2-9b86-5916042d1f11"
      },
      "source": [
        "import matplotlib.pyplot as plt\n",
        "from PIL import Image\n",
        "import numpy as np\n",
        "plt.figure(figsize=(3, 9))\n",
        "for i in range(3):\n",
        "  im=Image.open('generated_img_{}_19.png'.format(i))\n",
        "  im=np.asarray(im)\n",
        "  plt.subplot(1, 3, i+1)\n",
        "  plt.imshow(im, cmap='gray_r')\n",
        "  plt.axis('off')"
      ],
      "execution_count": 11,
      "outputs": [
        {
          "output_type": "display_data",
          "data": {
            "image/png": "[encoded data removed]",
            "text/plain": [
              "<Figure size 216x648 with 3 Axes>"
            ]
          },
          "metadata": {
            "tags": [],
            "needs_background": "light"
          }
        }
      ]
    },
    {
      "cell_type": "code",
      "metadata": {
        "id": "bt-djZhzEfHY"
      },
      "source": [
        ""
      ],
      "execution_count": null,
      "outputs": []
    }
  ]
}